{
 "cells": [
  {
   "cell_type": "markdown",
   "metadata": {},
   "source": [
    "# Experiment Runner Example"
   ]
  },
  {
   "cell_type": "code",
   "execution_count": 94,
   "metadata": {},
   "outputs": [],
   "source": [
    "from ExperimentRunner.ExperimentRunner import *"
   ]
  },
  {
   "cell_type": "code",
   "execution_count": 95,
   "metadata": {},
   "outputs": [],
   "source": [
    "import numpy as np\n",
    "import pandas as pd\n",
    "from ipyparallel import require\n",
    "import time"
   ]
  },
  {
   "cell_type": "markdown",
   "metadata": {},
   "source": [
    "## Test function\n",
    "* simple function to do some stupid calculation\n",
    "* ipyparallel.require needs to be used to include required packages and python objects\n",
    "* measure time to see wether the calculation speed is similar in parallel/sequential computation\n",
    "* Originially this was some more complex numpy calculation (svd of a large matrix) however this was parallized by numpy very well (and you just cant compete with that \\o/)"
   ]
  },
  {
   "cell_type": "code",
   "execution_count": 96,
   "metadata": {},
   "outputs": [],
   "source": [
    "@require('numpy as np', 'pandas as pd', 'time')\n",
    "def example_function(seed=0, x=1, y=1):\n",
    "    s = 0\n",
    "    t = time.time()\n",
    "    for i in range(x):\n",
    "        for j in range(y):\n",
    "            s += i + j\n",
    "    t = time.time() - t\n",
    "    return pd.DataFrame([{\"seed\": seed, \"value\": s, \"time\": t}])"
   ]
  },
  {
   "cell_type": "markdown",
   "metadata": {},
   "source": [
    "## Experiment Setup\n",
    "\n",
    "* Define a set of parameters for the experiment\n",
    "* For each parameter the values in `space` are used while the other parameters are at the default value\n",
    "* The experiment itself is also set up and the tasks are generated"
   ]
  },
  {
   "cell_type": "code",
   "execution_count": 97,
   "metadata": {},
   "outputs": [],
   "source": [
    "parameters = [\n",
    "    Parameter(name=\"x\", default=100, space=range(100000,100010)),\n",
    "    Parameter(name=\"y\", default=100, space=range(100000,100010))\n",
    "]\n",
    "experiment = Experiment(runs=3, seed=1, function=example_function, parameters=parameters)\n",
    "experiment.generate_tasks()"
   ]
  },
  {
   "cell_type": "markdown",
   "metadata": {},
   "source": [
    "## Run the Expiremnt\n",
    "* first parallel then sequential, measuring walltime\n",
    "* cpu-time is not really saying much, as it does not measure the cpu-time of the cluster\n",
    "* with the right amount of engines there is some speedup"
   ]
  },
  {
   "cell_type": "code",
   "execution_count": 98,
   "metadata": {},
   "outputs": [
    {
     "name": "stdout",
     "output_type": "stream",
     "text": [
      "  63/63 tasks finished after   29 s\n",
      "done\n",
      "CPU times: user 478 ms, sys: 211 ms, total: 689 ms\n",
      "Wall time: 29.4 s\n"
     ]
    }
   ],
   "source": [
    "%%time\n",
    "df = experiment.run_map(parallel=True).copy()\n",
    "df[\"parallel\"] = True"
   ]
  },
  {
   "cell_type": "code",
   "execution_count": 99,
   "metadata": {},
   "outputs": [
    {
     "name": "stdout",
     "output_type": "stream",
     "text": [
      "CPU times: user 48.5 s, sys: 404 ms, total: 48.9 s\n",
      "Wall time: 49.1 s\n"
     ]
    }
   ],
   "source": [
    "%%time\n",
    "df2 = experiment.run_map(parallel=False)\n",
    "df2[\"parallel\"] = False"
   ]
  },
  {
   "cell_type": "code",
   "execution_count": 100,
   "metadata": {},
   "outputs": [
    {
     "data": {
      "text/html": [
       "<div>\n",
       "<style scoped>\n",
       "    .dataframe tbody tr th:only-of-type {\n",
       "        vertical-align: middle;\n",
       "    }\n",
       "\n",
       "    .dataframe tbody tr th {\n",
       "        vertical-align: top;\n",
       "    }\n",
       "\n",
       "    .dataframe thead th {\n",
       "        text-align: right;\n",
       "    }\n",
       "</style>\n",
       "<table border=\"1\" class=\"dataframe\">\n",
       "  <thead>\n",
       "    <tr style=\"text-align: right;\">\n",
       "      <th></th>\n",
       "      <th>seed</th>\n",
       "      <th>time</th>\n",
       "      <th>value</th>\n",
       "      <th>x</th>\n",
       "      <th>y</th>\n",
       "      <th>parallel</th>\n",
       "    </tr>\n",
       "  </thead>\n",
       "  <tbody>\n",
       "    <tr>\n",
       "      <th>0</th>\n",
       "      <td>1791095845</td>\n",
       "      <td>0.000987</td>\n",
       "      <td>990000</td>\n",
       "      <td>100</td>\n",
       "      <td>100</td>\n",
       "      <td>False</td>\n",
       "    </tr>\n",
       "    <tr>\n",
       "      <th>0</th>\n",
       "      <td>4282876139</td>\n",
       "      <td>0.001095</td>\n",
       "      <td>990000</td>\n",
       "      <td>100</td>\n",
       "      <td>100</td>\n",
       "      <td>False</td>\n",
       "    </tr>\n",
       "    <tr>\n",
       "      <th>0</th>\n",
       "      <td>3093770124</td>\n",
       "      <td>0.000838</td>\n",
       "      <td>990000</td>\n",
       "      <td>100</td>\n",
       "      <td>100</td>\n",
       "      <td>False</td>\n",
       "    </tr>\n",
       "    <tr>\n",
       "      <th>0</th>\n",
       "      <td>4005303368</td>\n",
       "      <td>0.783282</td>\n",
       "      <td>500490000000</td>\n",
       "      <td>100000</td>\n",
       "      <td>100</td>\n",
       "      <td>False</td>\n",
       "    </tr>\n",
       "    <tr>\n",
       "      <th>0</th>\n",
       "      <td>491263</td>\n",
       "      <td>0.778435</td>\n",
       "      <td>500490000000</td>\n",
       "      <td>100000</td>\n",
       "      <td>100</td>\n",
       "      <td>False</td>\n",
       "    </tr>\n",
       "    <tr>\n",
       "      <th>0</th>\n",
       "      <td>550290313</td>\n",
       "      <td>0.761102</td>\n",
       "      <td>500490000000</td>\n",
       "      <td>100000</td>\n",
       "      <td>100</td>\n",
       "      <td>False</td>\n",
       "    </tr>\n",
       "  </tbody>\n",
       "</table>\n",
       "</div>"
      ],
      "text/plain": [
       "         seed      time         value       x    y  parallel\n",
       "0  1791095845  0.000987        990000     100  100     False\n",
       "0  4282876139  0.001095        990000     100  100     False\n",
       "0  3093770124  0.000838        990000     100  100     False\n",
       "0  4005303368  0.783282  500490000000  100000  100     False\n",
       "0      491263  0.778435  500490000000  100000  100     False\n",
       "0   550290313  0.761102  500490000000  100000  100     False"
      ]
     },
     "execution_count": 100,
     "metadata": {},
     "output_type": "execute_result"
    }
   ],
   "source": [
    "experiment.results.head(6)"
   ]
  },
  {
   "cell_type": "code",
   "execution_count": 101,
   "metadata": {},
   "outputs": [
    {
     "data": {
      "text/plain": [
       "1.1424446105957031"
      ]
     },
     "execution_count": 101,
     "metadata": {},
     "output_type": "execute_result"
    }
   ],
   "source": [
    "t.median()"
   ]
  },
  {
   "cell_type": "code",
   "execution_count": 102,
   "metadata": {},
   "outputs": [],
   "source": [
    "df_g = pd.concat([df, df2])"
   ]
  },
  {
   "cell_type": "code",
   "execution_count": 103,
   "metadata": {},
   "outputs": [
    {
     "data": {
      "text/plain": [
       "<matplotlib.axes._subplots.AxesSubplot at 0x11f2e1780>"
      ]
     },
     "execution_count": 103,
     "metadata": {},
     "output_type": "execute_result"
    },
    {
     "data": {
      "image/png": "[encoded data removed]",
      "text/plain": [
       "<Figure size 432x288 with 1 Axes>"
      ]
     },
     "metadata": {
      "needs_background": "light"
     },
     "output_type": "display_data"
    }
   ],
   "source": [
    "import seaborn as sns\n",
    "sns.violinplot(data=df_g, y=\"time\", x=\"parallel\")"
   ]
  },
  {
   "cell_type": "markdown",
   "metadata": {},
   "source": [
    "## Results\n",
    "\n",
    "* If the right number of enignes is used (2 for my computer) there is considerable speedup of the overal experimet duration\n",
    "* When too many engines are running the time needed for the computation rises and cancels parallelization-benefits"
   ]
  },
  {
   "cell_type": "code",
   "execution_count": null,
   "metadata": {},
   "outputs": [],
   "source": []
  }
 ],
 "metadata": {
  "kernelspec": {
   "display_name": "Python 3",
   "language": "python",
   "name": "python3"
  },
  "language_info": {
   "codemirror_mode": {
    "name": "ipython",
    "version": 3
   },
   "file_extension": ".py",
   "mimetype": "text/x-python",
   "name": "python",
   "nbconvert_exporter": "python",
   "pygments_lexer": "ipython3",
   "version": "3.7.3"
  },
  "toc": {
   "base_numbering": 1,
   "nav_menu": {},
   "number_sections": true,
   "sideBar": true,
   "skip_h1_title": false,
   "title_cell": "Table of Contents",
   "title_sidebar": "Contents",
   "toc_cell": false,
   "toc_position": {},
   "toc_section_display": true,
   "toc_window_display": false
  }
 },
 "nbformat": 4,
 "nbformat_minor": 2
}
